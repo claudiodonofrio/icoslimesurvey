{
 "cells": [
  {
   "cell_type": "markdown",
   "metadata": {},
   "source": [
    "<img src=\"./images/icos.png\" />"
   ]
  },
  {
   "cell_type": "markdown",
   "metadata": {},
   "source": [
    "# A little demonstrator to access the LimeSurvey service.\n",
    "At the ICOS Carbon Portal, we host the limesurvey software (http://www.limesurvey.org) to provide a tool for  gathering\n",
    "information about ICOS as European Reaearch Infrastructure and the corresponding services provided."
   ]
  },
  {
   "cell_type": "markdown",
   "metadata": {},
   "source": [
    "### To 'declutter' the notebook we have hidden all the code. You can run the notebook and below each explanation you will find the 'output' for the cod snippets.\n",
    "\n",
    "\n",
    "If you are curious how it's done, you can click the button below to see and change the code..."
   ]
  },
  {
   "cell_type": "code",
   "execution_count": 1,
   "metadata": {},
   "outputs": [
    {
     "data": {
      "text/html": [
       "<script>\n",
       "code_show=true; \n",
       "function code_toggle() {\n",
       " if (code_show){\n",
       " $('div.input').hide();\n",
       " } else {\n",
       " $('div.input').show();\n",
       " }\n",
       " code_show = !code_show\n",
       "} \n",
       "$( document ).ready(code_toggle);\n",
       "</script>\n",
       "<form action=\"javascript:code_toggle()\"><input type=\"submit\" value=\"Click here to toggle on/off the raw code.\"></form>"
      ],
      "text/plain": [
       "<IPython.core.display.HTML object>"
      ]
     },
     "execution_count": 1,
     "metadata": {},
     "output_type": "execute_result"
    }
   ],
   "source": [
    "from IPython.display import HTML\n",
    "\n",
    "HTML('''<script>\n",
    "code_show=true; \n",
    "function code_toggle() {\n",
    " if (code_show){\n",
    " $('div.input').hide();\n",
    " } else {\n",
    " $('div.input').show();\n",
    " }\n",
    " code_show = !code_show\n",
    "} \n",
    "$( document ).ready(code_toggle);\n",
    "</script>\n",
    "<form action=\"javascript:code_toggle()\"><input type=\"submit\" value=\"Click here to toggle on/off the raw code.\"></form>''')"
   ]
  },
  {
   "cell_type": "markdown",
   "metadata": {},
   "source": [
    "## load modules\n",
    "\n",
    "A list of python modules and custom libraries "
   ]
  },
  {
   "cell_type": "code",
   "execution_count": 1,
   "metadata": {},
   "outputs": [
    {
     "name": "stdout",
     "output_type": "stream",
     "text": [
      "add current directory to the path, to load the icos scripts\n"
     ]
    }
   ],
   "source": [
    "import os\n",
    "import sys\n",
    "import base64\n",
    "import pandas as pd\n",
    "import io\n",
    "import matplotlib\n",
    "import matplotlib.pyplot as plt\n",
    "from IPython.display import display, HTML\n",
    "import ipywidgets as widgets\n",
    "import shutil\n",
    "\n",
    "# custom libraries\n",
    "sys.path.append(os.getcwd())\n",
    "print(\"add current directory to the path, to load the icos scripts\")\n",
    "import icoslimer\n",
    "import report"
   ]
  },
  {
   "cell_type": "markdown",
   "metadata": {},
   "source": [
    "\n",
    "## set credentials and connect to the survey server\n"
   ]
  },
  {
   "cell_type": "code",
   "execution_count": 3,
   "metadata": {},
   "outputs": [
    {
     "name": "stdout",
     "output_type": "stream",
     "text": [
      "A session key was generated: umxd7g17_uX9BSMZmCV33J5t3EDeGiMX\n"
     ]
    }
   ],
   "source": [
    "url = 'http://localhost/limesurvey/index.php/admin/remotecontrol'\n",
    "usr = 'limey'\n",
    "pwd = 'EnvriPlus'\n",
    "\n",
    "lime = icoslimer.IcosLimer()\n",
    "lime.set_url(url)\n",
    "lime.set_auth(usr, pwd)\n",
    "lime.set_session_key()\n",
    "\n",
    "if type(lime.session_key) is str:\n",
    "    print(\"A session key was generated: \" + lime.session_key)\n",
    "else:\n",
    "    print(\"soemthing is wrong: \" + lime.session_key)\n"
   ]
  },
  {
   "cell_type": "markdown",
   "metadata": {},
   "source": [
    "## get all surveys"
   ]
  },
  {
   "cell_type": "code",
   "execution_count": 4,
   "metadata": {
    "scrolled": true
   },
   "outputs": [
    {
     "name": "stdout",
     "output_type": "stream",
     "text": [
      "{'sid': '312777', 'surveyls_title': 'testi', 'startdate': None, 'expires': '2019-04-03 03:19:21', 'active': 'N'}\n",
      "{'sid': '341979', 'surveyls_title': 'staticpdf', 'startdate': None, 'expires': None, 'active': 'Y'}\n",
      "{'sid': '424932', 'surveyls_title': 'just add add survey to add another timeline....', 'startdate': None, 'expires': None, 'active': 'Y'}\n"
     ]
    }
   ],
   "source": [
    "surveys = lime.list_surveys()\n",
    "\n",
    "for s in surveys['result']:\n",
    "    print(s)"
   ]
  },
  {
   "cell_type": "markdown",
   "metadata": {},
   "source": [
    "## extract the statistics for the surveys and store them in a list"
   ]
  },
  {
   "cell_type": "markdown",
   "metadata": {},
   "source": [
    "### define the options for the output\n",
    "@ output_format (string): choose between **html, xls, pdf**. Default is set to '**html**'.<br>\n",
    "@ lang (string):  you can choose a specific language, provide empty string for survey default language.<br>\n",
    "@ graph (string) [0|1]: set graph to \"1\" if you like to have bar charts included. This works only with pdf.<br>\n",
    "<br>\n",
    "If statistics are available for a survey, add to list. The output is a variable \"stats_list\"."
   ]
  },
  {
   "cell_type": "code",
   "execution_count": 2,
   "metadata": {},
   "outputs": [
    {
     "data": {
      "application/vnd.jupyter.widget-view+json": {
       "model_id": "0aa7d061c5904106888ade4fbf4899a5",
       "version_major": 2,
       "version_minor": 0
      },
      "text/plain": [
       "Dropdown(description='output:', options=('html', 'xls', 'pdf'), value='html')"
      ]
     },
     "metadata": {},
     "output_type": "display_data"
    }
   ],
   "source": [
    "\n",
    "w = widgets.Dropdown(\n",
    "    options=['html', 'xls', 'pdf'],\n",
    "    output_format='html',\n",
    "    description='output:',\n",
    "    disabled=False,\n",
    ")\n",
    "display(w)\n"
   ]
  },
  {
   "cell_type": "code",
   "execution_count": 6,
   "metadata": {},
   "outputs": [
    {
     "data": {
      "text/plain": [
       "'html'"
      ]
     },
     "execution_count": 6,
     "metadata": {},
     "output_type": "execute_result"
    }
   ],
   "source": [
    "w.value"
   ]
  },
  {
   "cell_type": "code",
   "execution_count": 7,
   "metadata": {},
   "outputs": [
    {
     "name": "stdout",
     "output_type": "stream",
     "text": [
      "------->\n",
      "error processing survey 312777\n",
      "CDbCommand failed to execute the SQL statement: SQLSTATE[42S02]: Base table or view not found: 1146 Table 'envriplus.lime_survey_312777' doesn't exist\n",
      "<-------\n",
      "add stats for 341979\n",
      "add stats for 424932\n",
      "2 stats available\n"
     ]
    }
   ],
   "source": [
    "\n",
    "\n",
    "output_format = w.value\n",
    "lang = ''\n",
    "graph = '0'\n",
    "\n",
    "stats_list = []\n",
    "\n",
    "for s in surveys['result']:\n",
    "\n",
    "    stats = lime.get_statistics(s['sid'], output_format)\n",
    "\n",
    "    # check if it is a json object and decode base64\n",
    "    try:        \n",
    "        stats = base64.b64decode(stats['result'])          \n",
    "        stats_list.append([s['sid'], stats])\n",
    "        print('add stats for ' + s['sid'])\n",
    "    except:\n",
    "        print('------->')\n",
    "        print('error processing survey ' + s['sid'])\n",
    "        print(stats['error'])\n",
    "        print('<-------')\n",
    "        \n",
    "        pass\n",
    "        \n",
    "        \n",
    "if len(stats_list) > 0:\n",
    "    print(str(len(stats_list)) + ' stats available')\n"
   ]
  },
  {
   "cell_type": "markdown",
   "metadata": {},
   "source": [
    "## You can get a timeline for each survery. \n",
    "\n",
    "<br>\n",
    "@ startdate(string): yyyymmdd<br>\n",
    "@ enddate(string): yyyymmdd\n",
    "<br>\n",
    "@ output: timeline_list one entry for each survey with counts per day\n"
   ]
  },
  {
   "cell_type": "code",
   "execution_count": 8,
   "metadata": {},
   "outputs": [
    {
     "name": "stdout",
     "output_type": "stream",
     "text": [
      "timeline added for survey: 341979\n",
      "timeline added for survey: 424932\n"
     ]
    }
   ],
   "source": [
    "startdate = '20190101'\n",
    "enddate = '20251231'\n",
    "\n",
    "\n",
    "timeline_list = []  \n",
    "for s in stats_list:\n",
    "    t = lime.get_timeline(s[0], 'day', startdate, enddate)\n",
    "    timeline_list.append([s[0], t['result']])\n",
    "    print('timeline added for survey: ' + s[0])\n",
    "    "
   ]
  },
  {
   "cell_type": "markdown",
   "metadata": {},
   "source": [
    "### Release the session key to the limesurvey server. We have all the information we want stored in:\n",
    "\n",
    "- **surveys**\n",
    "- **stats_list**\n",
    "- **timeline_list**"
   ]
  },
  {
   "cell_type": "code",
   "execution_count": 9,
   "metadata": {},
   "outputs": [],
   "source": [
    "lime.release_session_key()"
   ]
  },
  {
   "cell_type": "markdown",
   "metadata": {},
   "source": [
    "### Store the statistics provided from limesurvey as file.\n",
    "The output is a file for each survey in the format of surveyid.output_format, ***./out/surveyid.output_format***\n"
   ]
  },
  {
   "cell_type": "code",
   "execution_count": 10,
   "metadata": {},
   "outputs": [
    {
     "name": "stdout",
     "output_type": "stream",
     "text": [
      "output format is set to: html\n"
     ]
    },
    {
     "data": {
      "text/html": [
       "stats for 341979 saved to: <a href=\"./out/341979/341979.html\" target=\"_blank\">./out/341979/341979.html</a>"
      ],
      "text/plain": [
       "<IPython.core.display.HTML object>"
      ]
     },
     "metadata": {},
     "output_type": "display_data"
    },
    {
     "data": {
      "text/html": [
       "stats for 424932 saved to: <a href=\"./out/424932/424932.html\" target=\"_blank\">./out/424932/424932.html</a>"
      ],
      "text/plain": [
       "<IPython.core.display.HTML object>"
      ]
     },
     "metadata": {},
     "output_type": "display_data"
    }
   ],
   "source": [
    "# make sure the output directories are available\n",
    "if not os.path.isdir('out'):\n",
    "    os.mkdir('out')\n",
    "    \n",
    "print('output format is set to: ' + output_format)\n",
    "for index, stats in stats_list:\n",
    "    if not os.path.isdir('./out/'+index):\n",
    "        os.mkdir('./out/' + index)\n",
    "        \n",
    "    filename = './out/' + index + '/' +index + '.' + output_format        \n",
    "    with open(filename, 'wb') as f:\n",
    "        f.write(stats)\n",
    "    \n",
    "    lnk = 'stats for ' + index + ' saved to: <a href=\"' + filename + '\" target=\"_blank\">' + filename +'</a>'\n",
    "    display(HTML(lnk))\n",
    "    "
   ]
  },
  {
   "cell_type": "markdown",
   "metadata": {},
   "source": [
    "### If output_format is  \"html\",  display the html file\n",
    "\n"
   ]
  },
  {
   "cell_type": "code",
   "execution_count": 11,
   "metadata": {
    "scrolled": true
   },
   "outputs": [
    {
     "name": "stdout",
     "output_type": "stream",
     "text": [
      "As an example we display only the first file\n"
     ]
    },
    {
     "data": {
      "text/html": [
       "<div style=\"clear: both; margin-bottom: 10px;\"></div><div class=\"jumbotron message-box\"><h2>Results</h2><p>Number of records in this query:27</p><p>Total records in survey:27</p><p>Percentage of total:100.00%</p><form target=\"_blank\" action=\"/limesurvey/index.php/admin/responses/sa/browse/surveyid/341979\" method=\"post\">\n",
       "<input type=\"hidden\" value=\"b0ttUXowZ340dHlGYWd0MWtHWWUxTF9PZHV3Z2piNFB6AkGFSFxtrO6QNhhLMJx7eFmDi8pcZG_rjYgNberHGw==\" name=\"YII_CSRF_TOKEN\" />\n",
       "\t\t<p>\t\t\t<input type='submit' class='btn btn-default' value='Browse'  />\n",
       "\t\t\t<input type='hidden' name='sid' value='341979' />\n",
       "\t\t\t<input type='hidden' name='sql' value=\"\" />\n",
       "\t\t\t<input type='hidden' name='subaction' value='all' />\n",
       "\t\t</p>\t\t</form>\n",
       "</div><!-- _statisticsoutput_header -->\n",
       "<div class=\"col-lg-6 col-sm-12 printable\" >\n",
       "<table class='statisticstable table table-bordered printable' id=\"quid_2\">\n",
       "    <thead>\n",
       "        <tr class='success'>\n",
       "            <th colspan='4' align='center' style='text-align: center; '>\n",
       "                <strong>\n",
       "                    Summary for q1(SQ001)[first]                </strong>\n",
       "                <button class=\"pull-right action_js_export_to_pdf btn btn-default btn-sm\" data-question-id=\"quid_2\" data-toggle=\"tooltip\" title=\"Export this question to PDF.\">\n",
       "                    <i class=\"fa fa-file-pdf-o\"></i>\n",
       "                </button>\n",
       "            </th>\n",
       "        </tr>\n",
       "        <tr>\n",
       "            <th colspan='4' align='center' style='text-align: center; '>\n",
       "                <!-- question title -->\n",
       "                <strong>\n",
       "                    q1<br />\n",
       "                </strong>\n",
       "            </th>\n",
       "        </tr>\n",
       "        <!-- width depend on how much items... -->\n",
       "        <tr>\n",
       "            <th width='' align='center' >\n",
       "                <strong>\n",
       "                    Answer                </strong>\n",
       "            </th>\n",
       "\n",
       "                            <th width='' align='center' >\n",
       "                    <strong>Count</strong>\n",
       "                </th>\n",
       "            \n",
       "                            <th width='' align='center' >\n",
       "                    <strong>Percentage</strong>\n",
       "                </th>\n",
       "            \n",
       "                            <th width='' align='center' >\n",
       "                    <strong>\n",
       "                        Sum                    </strong>\n",
       "                </th>\n",
       "                    </tr>\n",
       "    </thead>\n",
       "<!-- end of _statisticsoutput_header -->\n",
       "\n",
       "<!-- _statisticsoutput_answer -->\n",
       "<tr>\n",
       "    <td align='right' >1 (1)</td>\n",
       "    <td align='right' >3</td>\n",
       "\n",
       "    \n",
       "        <td  align='right' >\n",
       "            11.11%\n",
       "        </td>\n",
       "\n",
       "        \n",
       "                    <td  align='right' >\n",
       "                22.22%\n",
       "            </td>\n",
       "        \n",
       "    </tr>\n",
       "\n",
       "\n",
       "\n",
       "\n",
       "<!-- end of _statisticsoutput_answer -->\n",
       "\n",
       "<!-- _statisticsoutput_answer -->\n",
       "<tr>\n",
       "    <td align='right' >2 (2)</td>\n",
       "    <td align='right' >3</td>\n",
       "\n",
       "    \n",
       "        <td  align='right' >\n",
       "            11.11%\n",
       "        </td>\n",
       "\n",
       "        \n",
       "                    <td  align='right' >\n",
       "                &nbsp;\n",
       "            </td>\n",
       "        \n",
       "    </tr>\n",
       "\n",
       "\n",
       "\n",
       "\n",
       "<!-- end of _statisticsoutput_answer -->\n",
       "\n",
       "<!-- _statisticsoutput_answer -->\n",
       "<tr>\n",
       "    <td align='right' >3 (3)</td>\n",
       "    <td align='right' >3</td>\n",
       "\n",
       "    \n",
       "        <td  align='right' >\n",
       "            11.11%\n",
       "        </td>\n",
       "\n",
       "        \n",
       "                    <td  align='right' >\n",
       "                11.11%\n",
       "            </td>\n",
       "        \n",
       "    </tr>\n",
       "\n",
       "\n",
       "\n",
       "\n",
       "<!-- end of _statisticsoutput_answer -->\n",
       "\n",
       "<!-- _statisticsoutput_answer -->\n",
       "<tr>\n",
       "    <td align='right' >4 (4)</td>\n",
       "    <td align='right' >2</td>\n",
       "\n",
       "    \n",
       "        <td  align='right' >\n",
       "            7.41%\n",
       "        </td>\n",
       "\n",
       "        \n",
       "                    <td  align='right' >\n",
       "                &nbsp;\n",
       "            </td>\n",
       "        \n",
       "    </tr>\n",
       "\n",
       "\n",
       "\n",
       "\n",
       "<!-- end of _statisticsoutput_answer -->\n",
       "\n",
       "<!-- _statisticsoutput_answer -->\n",
       "<tr>\n",
       "    <td align='right' >5 (5)</td>\n",
       "    <td align='right' >3</td>\n",
       "\n",
       "    \n",
       "        <td  align='right' >\n",
       "            11.11%\n",
       "        </td>\n",
       "\n",
       "        \n",
       "                    <td  align='right' >\n",
       "                18.52%\n",
       "            </td>\n",
       "        \n",
       "    </tr>\n",
       "\n",
       "    <tr>\n",
       "        <td align='right'>\n",
       "            <strong>\n",
       "                Sum(Answers)\n",
       "            </strong>\n",
       "        </td>\n",
       "        <td align='right'>\n",
       "            <strong>\n",
       "                14            </strong>\n",
       "        </td>\n",
       "        <td align='right'>\n",
       "            <strong>\n",
       "                100.00%\n",
       "            </strong>\n",
       "        </td>\n",
       "        <td align='right'>\n",
       "            <strong>\n",
       "                100.00%\n",
       "            </strong>\n",
       "        </td>\n",
       "    </tr>\n",
       "\n",
       "\n",
       "\n",
       "<!-- end of _statisticsoutput_answer -->\n",
       "\n",
       "<!-- _statisticsoutput_answer -->\n",
       "<tr>\n",
       "    <td align='right' >No answer</td>\n",
       "    <td align='right' >0</td>\n",
       "\n",
       "    \n",
       "        <td  align='right' >\n",
       "            0.00%\n",
       "        </td>\n",
       "\n",
       "        \n",
       "                    <td  align='right' >\n",
       "                0.00%\n",
       "            </td>\n",
       "        \n",
       "    </tr>\n",
       "\n",
       "\n",
       "\n",
       "\n",
       "<!-- end of _statisticsoutput_answer -->\n",
       "\n",
       "<!-- _statisticsoutput_answer -->\n",
       "<tr>\n",
       "    <td align='right' >Not completed or Not displayed</td>\n",
       "    <td align='right' >13</td>\n",
       "\n",
       "    \n",
       "        <td  align='right' >\n",
       "            48.15%\n",
       "        </td>\n",
       "\n",
       "        \n",
       "                    <td  align='right' >\n",
       "                0.00%\n",
       "            </td>\n",
       "        \n",
       "    </tr>\n",
       "\n",
       "\n",
       "\n",
       "\n",
       "<!-- end of _statisticsoutput_answer -->\n",
       "\n",
       "<tr>\n",
       "    <td align='center'>\n",
       "        Arithmetic mean    </td>\n",
       "    <td>\n",
       "        &nbsp;\n",
       "    </td>\n",
       "    <td align='center'>\n",
       "        2.93    </td>\n",
       "    <td>\n",
       "        &nbsp;\n",
       "    </td>\n",
       "</tr>\n",
       "<tr>\n",
       "    <td align='center'>\n",
       "        Standard deviation    </td>\n",
       "    <td>\n",
       "        &nbsp;\n",
       "    </td>\n",
       "    <td align='center'>\n",
       "        1.49    </td>\n",
       "    <td>\n",
       "        &nbsp;\n",
       "    </td>\n",
       "</tr>\n",
       "</table></div><!-- in statistics helper --> \n",
       "<script></script><!-- _statisticsoutput_header -->\n",
       "<div class=\"col-lg-6 col-sm-12 printable\" >\n",
       "<table class='statisticstable table table-bordered printable' id=\"quid_2\">\n",
       "    <thead>\n",
       "        <tr class='success'>\n",
       "            <th colspan='4' align='center' style='text-align: center; '>\n",
       "                <strong>\n",
       "                    Summary for q1(SQ002)[second]                </strong>\n",
       "                <button class=\"pull-right action_js_export_to_pdf btn btn-default btn-sm\" data-question-id=\"quid_2\" data-toggle=\"tooltip\" title=\"Export this question to PDF.\">\n",
       "                    <i class=\"fa fa-file-pdf-o\"></i>\n",
       "                </button>\n",
       "            </th>\n",
       "        </tr>\n",
       "        <tr>\n",
       "            <th colspan='4' align='center' style='text-align: center; '>\n",
       "                <!-- question title -->\n",
       "                <strong>\n",
       "                    q1<br />\n",
       "                </strong>\n",
       "            </th>\n",
       "        </tr>\n",
       "        <!-- width depend on how much items... -->\n",
       "        <tr>\n",
       "            <th width='' align='center' >\n",
       "                <strong>\n",
       "                    Answer                </strong>\n",
       "            </th>\n",
       "\n",
       "                            <th width='' align='center' >\n",
       "                    <strong>Count</strong>\n",
       "                </th>\n",
       "            \n",
       "                            <th width='' align='center' >\n",
       "                    <strong>Percentage</strong>\n",
       "                </th>\n",
       "            \n",
       "                            <th width='' align='center' >\n",
       "                    <strong>\n",
       "                        Sum                    </strong>\n",
       "                </th>\n",
       "                    </tr>\n",
       "    </thead>\n",
       "<!-- end of _statisticsoutput_header -->\n",
       "\n",
       "<!-- _statisticsoutput_answer -->\n",
       "<tr>\n",
       "    <td align='right' >1 (1)</td>\n",
       "    <td align='right' >1</td>\n",
       "\n",
       "    \n",
       "        <td  align='right' >\n",
       "            3.70%\n",
       "        </td>\n",
       "\n",
       "        \n",
       "                    <td  align='right' >\n",
       "                14.81%\n",
       "            </td>\n",
       "        \n",
       "    </tr>\n",
       "\n",
       "\n",
       "\n",
       "\n",
       "<!-- end of _statisticsoutput_answer -->\n",
       "\n",
       "<!-- _statisticsoutput_answer -->\n",
       "<tr>\n",
       "    <td align='right' >2 (2)</td>\n",
       "    <td align='right' >3</td>\n",
       "\n",
       "    \n",
       "        <td  align='right' >\n",
       "            11.11%\n",
       "        </td>\n",
       "\n",
       "        \n",
       "                    <td  align='right' >\n",
       "                &nbsp;\n",
       "            </td>\n",
       "        \n",
       "    </tr>\n",
       "\n",
       "\n",
       "\n",
       "\n",
       "<!-- end of _statisticsoutput_answer -->\n",
       "\n",
       "<!-- _statisticsoutput_answer -->\n",
       "<tr>\n",
       "    <td align='right' >3 (3)</td>\n",
       "    <td align='right' >3</td>\n",
       "\n",
       "    \n",
       "        <td  align='right' >\n",
       "            11.11%\n",
       "        </td>\n",
       "\n",
       "        \n",
       "                    <td  align='right' >\n",
       "                11.11%\n",
       "            </td>\n",
       "        \n",
       "    </tr>\n",
       "\n",
       "\n",
       "\n",
       "\n",
       "<!-- end of _statisticsoutput_answer -->\n",
       "\n",
       "<!-- _statisticsoutput_answer -->\n",
       "<tr>\n",
       "    <td align='right' >4 (4)</td>\n",
       "    <td align='right' >4</td>\n",
       "\n",
       "    \n",
       "        <td  align='right' >\n",
       "            14.81%\n",
       "        </td>\n",
       "\n",
       "        \n",
       "                    <td  align='right' >\n",
       "                &nbsp;\n",
       "            </td>\n",
       "        \n",
       "    </tr>\n",
       "\n",
       "\n",
       "\n",
       "\n",
       "<!-- end of _statisticsoutput_answer -->\n",
       "\n",
       "<!-- _statisticsoutput_answer -->\n",
       "<tr>\n",
       "    <td align='right' >5 (5)</td>\n",
       "    <td align='right' >3</td>\n",
       "\n",
       "    \n",
       "        <td  align='right' >\n",
       "            11.11%\n",
       "        </td>\n",
       "\n",
       "        \n",
       "                    <td  align='right' >\n",
       "                25.93%\n",
       "            </td>\n",
       "        \n",
       "    </tr>\n",
       "\n",
       "    <tr>\n",
       "        <td align='right'>\n",
       "            <strong>\n",
       "                Sum(Answers)\n",
       "            </strong>\n",
       "        </td>\n",
       "        <td align='right'>\n",
       "            <strong>\n",
       "                14            </strong>\n",
       "        </td>\n",
       "        <td align='right'>\n",
       "            <strong>\n",
       "                100.00%\n",
       "            </strong>\n",
       "        </td>\n",
       "        <td align='right'>\n",
       "            <strong>\n",
       "                100.00%\n",
       "            </strong>\n",
       "        </td>\n",
       "    </tr>\n",
       "\n",
       "\n",
       "\n",
       "<!-- end of _statisticsoutput_answer -->\n",
       "\n",
       "<!-- _statisticsoutput_answer -->\n",
       "<tr>\n",
       "    <td align='right' >No answer</td>\n",
       "    <td align='right' >0</td>\n",
       "\n",
       "    \n",
       "        <td  align='right' >\n",
       "            0.00%\n",
       "        </td>\n",
       "\n",
       "        \n",
       "                    <td  align='right' >\n",
       "                0.00%\n",
       "            </td>\n",
       "        \n",
       "    </tr>\n",
       "\n",
       "\n",
       "\n",
       "\n",
       "<!-- end of _statisticsoutput_answer -->\n",
       "\n",
       "<!-- _statisticsoutput_answer -->\n",
       "<tr>\n",
       "    <td align='right' >Not completed or Not displayed</td>\n",
       "    <td align='right' >13</td>\n",
       "\n",
       "    \n",
       "        <td  align='right' >\n",
       "            48.15%\n",
       "        </td>\n",
       "\n",
       "        \n",
       "                    <td  align='right' >\n",
       "                0.00%\n",
       "            </td>\n",
       "        \n",
       "    </tr>\n",
       "\n",
       "\n",
       "\n",
       "\n",
       "<!-- end of _statisticsoutput_answer -->\n",
       "\n",
       "<tr>\n",
       "    <td align='center'>\n",
       "        Arithmetic mean    </td>\n",
       "    <td>\n",
       "        &nbsp;\n",
       "    </td>\n",
       "    <td align='center'>\n",
       "        3.36    </td>\n",
       "    <td>\n",
       "        &nbsp;\n",
       "    </td>\n",
       "</tr>\n",
       "<tr>\n",
       "    <td align='center'>\n",
       "        Standard deviation    </td>\n",
       "    <td>\n",
       "        &nbsp;\n",
       "    </td>\n",
       "    <td align='center'>\n",
       "        1.28    </td>\n",
       "    <td>\n",
       "        &nbsp;\n",
       "    </td>\n",
       "</tr>\n",
       "</table></div><!-- in statistics helper --> \n",
       "<script></script><br />&nbsp;\n",
       "<script type=\"text/javascript\" src=\"http://maps.googleapis.com/maps/api/js?sensor=false\"></script>\n",
       "<script type=\"text/javascript\">var site_url='/limesurvey';var temppath='/limesurvey/tmp';var imgpath='/limesurvey/themes/admin/Sea_Green/images/';var aStatData=[]</script>"
      ],
      "text/plain": [
       "<IPython.core.display.HTML object>"
      ]
     },
     "metadata": {},
     "output_type": "display_data"
    }
   ],
   "source": [
    "if output_format == 'html' and len(stats_list) > 0:\n",
    "    print('As an example we display only the first file')\n",
    "    f = './out/' +stats_list[0][0] + '/' + stats_list[0][0] + '.' + output_format\n",
    "    display(HTML(filename=f))\n",
    "else:\n",
    "    print('nothing to do')\n",
    "\n",
    " \n",
    "    "
   ]
  },
  {
   "cell_type": "markdown",
   "metadata": {},
   "source": [
    "### If output_format is  \"xls\",  read the data into a pandas data frame to calculate your own statistics"
   ]
  },
  {
   "cell_type": "code",
   "execution_count": 12,
   "metadata": {},
   "outputs": [
    {
     "name": "stdout",
     "output_type": "stream",
     "text": [
      "nothing to do\n"
     ]
    }
   ],
   "source": [
    "if output_format == 'xls':\n",
    "    for id, s in stats_list:\n",
    "        dataframe = pd.read_excel(io.BytesIO(s))        \n",
    "        display(dataframe)\n",
    "else:\n",
    "    print('nothing to do')"
   ]
  },
  {
   "cell_type": "markdown",
   "metadata": {},
   "source": [
    " ### We have extracted the timelines for each survey, we can display the table or plot a graph\n",
    "- display the \"raw\" table\n",
    "- extract the values for each survey "
   ]
  },
  {
   "cell_type": "code",
   "execution_count": 13,
   "metadata": {},
   "outputs": [
    {
     "name": "stdout",
     "output_type": "stream",
     "text": [
      "raw table\n"
     ]
    },
    {
     "data": {
      "text/html": [
       "<div>\n",
       "<style scoped>\n",
       "    .dataframe tbody tr th:only-of-type {\n",
       "        vertical-align: middle;\n",
       "    }\n",
       "\n",
       "    .dataframe tbody tr th {\n",
       "        vertical-align: top;\n",
       "    }\n",
       "\n",
       "    .dataframe thead th {\n",
       "        text-align: right;\n",
       "    }\n",
       "</style>\n",
       "<table border=\"1\" class=\"dataframe\">\n",
       "  <thead>\n",
       "    <tr style=\"text-align: right;\">\n",
       "      <th></th>\n",
       "      <th>sid</th>\n",
       "      <th>count</th>\n",
       "    </tr>\n",
       "  </thead>\n",
       "  <tbody>\n",
       "    <tr>\n",
       "      <th>0</th>\n",
       "      <td>341979</td>\n",
       "      <td>{'2019-04-03': 7, '2019-04-04': 3, '2019-04-05...</td>\n",
       "    </tr>\n",
       "    <tr>\n",
       "      <th>1</th>\n",
       "      <td>424932</td>\n",
       "      <td>{'2019-04-24': 4, '2019-04-26': 5}</td>\n",
       "    </tr>\n",
       "  </tbody>\n",
       "</table>\n",
       "</div>"
      ],
      "text/plain": [
       "      sid                                              count\n",
       "0  341979  {'2019-04-03': 7, '2019-04-04': 3, '2019-04-05...\n",
       "1  424932                 {'2019-04-24': 4, '2019-04-26': 5}"
      ]
     },
     "metadata": {},
     "output_type": "display_data"
    }
   ],
   "source": [
    "# display a panda dataframe\n",
    "col = ['sid', 'count']\n",
    "df = pd.DataFrame(timeline_list, columns=col)\n",
    "print('raw table')\n",
    "display(df)"
   ]
  },
  {
   "cell_type": "code",
   "execution_count": 14,
   "metadata": {
    "scrolled": true
   },
   "outputs": [
    {
     "name": "stdout",
     "output_type": "stream",
     "text": [
      "values extracted for each survey\n"
     ]
    },
    {
     "data": {
      "text/html": [
       "<div>\n",
       "<style scoped>\n",
       "    .dataframe tbody tr th:only-of-type {\n",
       "        vertical-align: middle;\n",
       "    }\n",
       "\n",
       "    .dataframe tbody tr th {\n",
       "        vertical-align: top;\n",
       "    }\n",
       "\n",
       "    .dataframe thead th {\n",
       "        text-align: right;\n",
       "    }\n",
       "</style>\n",
       "<table border=\"1\" class=\"dataframe\">\n",
       "  <thead>\n",
       "    <tr style=\"text-align: right;\">\n",
       "      <th></th>\n",
       "      <th>sid</th>\n",
       "      <th>time</th>\n",
       "      <th>count</th>\n",
       "    </tr>\n",
       "  </thead>\n",
       "  <tbody>\n",
       "    <tr>\n",
       "      <th>0</th>\n",
       "      <td>341979</td>\n",
       "      <td>2019-04-03</td>\n",
       "      <td>7</td>\n",
       "    </tr>\n",
       "    <tr>\n",
       "      <th>1</th>\n",
       "      <td>341979</td>\n",
       "      <td>2019-04-04</td>\n",
       "      <td>3</td>\n",
       "    </tr>\n",
       "    <tr>\n",
       "      <th>2</th>\n",
       "      <td>341979</td>\n",
       "      <td>2019-04-05</td>\n",
       "      <td>4</td>\n",
       "    </tr>\n",
       "  </tbody>\n",
       "</table>\n",
       "</div>"
      ],
      "text/plain": [
       "      sid        time  count\n",
       "0  341979  2019-04-03      7\n",
       "1  341979  2019-04-04      3\n",
       "2  341979  2019-04-05      4"
      ]
     },
     "metadata": {},
     "output_type": "display_data"
    },
    {
     "data": {
      "text/html": [
       "<div>\n",
       "<style scoped>\n",
       "    .dataframe tbody tr th:only-of-type {\n",
       "        vertical-align: middle;\n",
       "    }\n",
       "\n",
       "    .dataframe tbody tr th {\n",
       "        vertical-align: top;\n",
       "    }\n",
       "\n",
       "    .dataframe thead th {\n",
       "        text-align: right;\n",
       "    }\n",
       "</style>\n",
       "<table border=\"1\" class=\"dataframe\">\n",
       "  <thead>\n",
       "    <tr style=\"text-align: right;\">\n",
       "      <th></th>\n",
       "      <th>sid</th>\n",
       "      <th>time</th>\n",
       "      <th>count</th>\n",
       "    </tr>\n",
       "  </thead>\n",
       "  <tbody>\n",
       "    <tr>\n",
       "      <th>0</th>\n",
       "      <td>424932</td>\n",
       "      <td>2019-04-24</td>\n",
       "      <td>4</td>\n",
       "    </tr>\n",
       "    <tr>\n",
       "      <th>1</th>\n",
       "      <td>424932</td>\n",
       "      <td>2019-04-26</td>\n",
       "      <td>5</td>\n",
       "    </tr>\n",
       "  </tbody>\n",
       "</table>\n",
       "</div>"
      ],
      "text/plain": [
       "      sid        time  count\n",
       "0  424932  2019-04-24      4\n",
       "1  424932  2019-04-26      5"
      ]
     },
     "metadata": {},
     "output_type": "display_data"
    }
   ],
   "source": [
    "# extract the values for each survey \n",
    "print('values extracted for each survey')\n",
    "for t in timeline_list:\n",
    "    val = []\n",
    "    sid = t[0]\n",
    "    data = t[1]\n",
    "    for k,v in data.items():\n",
    "        val.append([sid,k,v])\n",
    "    \n",
    "    df = pd.DataFrame(val, columns=['sid', 'time', 'count'])\n",
    "    display(df)"
   ]
  },
  {
   "cell_type": "markdown",
   "metadata": {},
   "source": [
    "### use matplotlib to create a combined lineplot and markers for all surveys"
   ]
  },
  {
   "cell_type": "code",
   "execution_count": 15,
   "metadata": {},
   "outputs": [
    {
     "data": {
      "text/plain": [
       "(0, 7.2)"
      ]
     },
     "execution_count": 15,
     "metadata": {},
     "output_type": "execute_result"
    },
    {
     "data": {
      "image/png": "[encoded data removed]",
      "text/plain": [
       "<Figure size 432x288 with 1 Axes>"
      ]
     },
     "metadata": {
      "needs_background": "light"
     },
     "output_type": "display_data"
    }
   ],
   "source": [
    "\n",
    "\n",
    "fig, ax = plt.subplots()\n",
    "ax.grid()\n",
    "ax.set(xlabel='date(day)', ylabel='counts',\n",
    "       title='Timeline for survey submissions')\n",
    "\n",
    "for t in timeline_list:\n",
    "    ts=[]\n",
    "    count=[]\n",
    "    sid = t[0]\n",
    "    data = t[1]\n",
    "    for k,v in data.items():        \n",
    "        ts.append(v)\n",
    "        count.append(k)\n",
    "    ax.plot(count, ts, '*')\n",
    "    ax.plot(count, ts, label=sid)\n",
    "\n",
    "ax.legend()\n",
    "ax.set_ylim(bottom=0)"
   ]
  },
  {
   "cell_type": "markdown",
   "metadata": {},
   "source": [
    "### use the same plot, but instead save figures individually for each survey\n",
    "<br>\n",
    "for the moment the output is hardcoded to the folder ./out/surveyid\n"
   ]
  },
  {
   "cell_type": "code",
   "execution_count": 16,
   "metadata": {},
   "outputs": [
    {
     "name": "stdout",
     "output_type": "stream",
     "text": [
      "processing timelines..\n"
     ]
    },
    {
     "data": {
      "text/html": [
       "<a href=\"./out/341979/341979_timeline.png\" target=\"_blank\">./out/341979/341979_timeline.png</a>"
      ],
      "text/plain": [
       "<IPython.core.display.HTML object>"
      ]
     },
     "metadata": {},
     "output_type": "display_data"
    },
    {
     "data": {
      "text/html": [
       "<a href=\"./out/424932/424932_timeline.png\" target=\"_blank\">./out/424932/424932_timeline.png</a>"
      ],
      "text/plain": [
       "<IPython.core.display.HTML object>"
      ]
     },
     "metadata": {},
     "output_type": "display_data"
    }
   ],
   "source": [
    "print('processing timelines..')\n",
    "for t in timeline_list:\n",
    "    fig, ax = plt.subplots()\n",
    "    ax.grid()\n",
    "    ax.set(xlabel='date (day)', ylabel='n (count)',\n",
    "    title='Timeline for survey submissions')\n",
    "\n",
    "    ts=[]\n",
    "    count=[]\n",
    "    sid = t[0]\n",
    "    data = t[1]\n",
    "    for k,v in data.items():        \n",
    "        ts.append(v)\n",
    "        count.append(k)\n",
    "    ax.plot(count, ts, '*')\n",
    "    ax.plot(count, ts, label=sid)\n",
    "    ax.legend()\n",
    "    ax.set_ylim(bottom=0)\n",
    "    filename = './out/' + sid + '/' + sid + '_timeline.png'    \n",
    "    plt.savefig(filename, dpi=150, format='png')    \n",
    "    plt.close()    \n",
    "    lnk = '<a href=\"' + filename + '\" target=\"_blank\">' + filename +'</a>'\n",
    "    display(HTML(lnk))\n"
   ]
  },
  {
   "cell_type": "markdown",
   "metadata": {},
   "source": [
    "## now we have everything together to create a custom report\n",
    "- we assume that the following variables exist from the script above:\n",
    "    - surveys, stats_list, timeline_list\n",
    "- and we assume as well that\n",
    "    - timeline\" images have been saved in form of \"surveyid_timeline.png\"\n",
    "\n",
    "**Remember: To create a custom report, output format needs to be html.**\n",
    "\n",
    "As an example, the template engine \"JINJA\" (http://jinja.pocoo.org/) is used to create a\n",
    "an ENVRIPLUS report. Jinja2 has \"variable\" inside the html file, which are then replaced with\n",
    "the content from the python variables.\n",
    "\n",
    "have a look at\n",
    "   - ./template/envriplus.html\n",
    "   - ./template/envriplus.css\n",
    "   \n",
    "To make the reports \"self contained\", all the images and references are relativ to the survey.\n",
    "Hence each survey has the logo and the css file. You can copy that folder to another place if you like.\n"
   ]
  },
  {
   "cell_type": "code",
   "execution_count": 17,
   "metadata": {},
   "outputs": [
    {
     "data": {
      "text/html": [
       "<a href=\"C:\\Users\\Claudio\\Documents\\GitHub\\icoslimesurvey/out/341979/341979_report.html\" target=\"_blank\">./out/341979/341979_report.html</a>"
      ],
      "text/plain": [
       "<IPython.core.display.HTML object>"
      ]
     },
     "metadata": {},
     "output_type": "display_data"
    },
    {
     "data": {
      "text/html": [
       "<a href=\"C:\\Users\\Claudio\\Documents\\GitHub\\icoslimesurvey/out/424932/424932_report.html\" target=\"_blank\">./out/424932/424932_report.html</a>"
      ],
      "text/plain": [
       "<IPython.core.display.HTML object>"
      ]
     },
     "metadata": {},
     "output_type": "display_data"
    }
   ],
   "source": [
    "\n",
    "templatename = 'envriplus.html'\n",
    "\n",
    "if output_format == 'html':\n",
    "    for detail in surveys['result']:\n",
    "\n",
    "        sid = detail['sid']    \n",
    "        report_name = sid + '_report.html'\n",
    "\n",
    "        statistic = None\n",
    "        timeline = None\n",
    "        detail = None\n",
    "\n",
    "        # get statistis.\n",
    "        for s in stats_list:\n",
    "            if s[0] == sid:\n",
    "                statistic = s[1]\n",
    "                # it is \"bytes\", convert to utf8 text            \n",
    "                statistic = statistic.decode()            \n",
    "\n",
    "        # find the corresponding timeline \n",
    "        for t in timeline_list:\n",
    "            if t[0] == sid:\n",
    "                # we assume, the timeline image is already saved.\n",
    "                timeline = sid + '_timeline.png'\n",
    "\n",
    "        for d in surveys['result']:\n",
    "            if d['sid'] == sid:\n",
    "                detail = d\n",
    "\n",
    "\n",
    "        # if stats or timeline is missing, skip\n",
    "        if statistic is None or timeline is None or detail is None:\n",
    "            pass\n",
    "        else:        \n",
    "            # create the report and safe to file\n",
    "            r = report.report(templatename,detail, statistic, timeline)\n",
    "            folder = './out/' + sid +'/'     \n",
    "            filename = folder + report_name\n",
    "            with open(filename, 'w') as f:\n",
    "                f.write(r)\n",
    "            \n",
    "            localpath = os.getcwd()\n",
    "            lnk = '<a href=\"' + localpath + '/out/' + sid+ '/' + report_name + '\" target=\"_blank\">' + filename +'</a>'\n",
    "            display(HTML(lnk))\n",
    "            \n",
    "            # now we copy the logo and css file into the same directory\n",
    "            # such that the report is self contained\n",
    "            shutil.copyfile('./template/envriplus_logo.png', folder + 'envriplus_logo.png')\n",
    "            shutil.copyfile('./template/envriplus.css', folder + 'envriplus.css')\n",
    "else:\n",
    "    print('sorry, but output_format is set to \"' + output_format +'\"')\n",
    "    print('for the time beeing we can only process \"html\" to a custom report')\n",
    "            "
   ]
  }
 ],
 "metadata": {
  "kernelspec": {
   "display_name": "Python 3",
   "language": "python",
   "name": "python3"
  },
  "language_info": {
   "codemirror_mode": {
    "name": "ipython",
    "version": 3
   },
   "file_extension": ".py",
   "mimetype": "text/x-python",
   "name": "python",
   "nbconvert_exporter": "python",
   "pygments_lexer": "ipython3",
   "version": "3.7.3"
  }
 },
 "nbformat": 4,
 "nbformat_minor": 2
}
